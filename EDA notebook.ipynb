{
 "cells": [
  {
   "cell_type": "code",
   "execution_count": 6,
   "id": "310caf60",
   "metadata": {},
   "outputs": [
    {
     "ename": "NameError",
     "evalue": "name 'generate' is not defined",
     "output_type": "error",
     "traceback": [
      "\u001b[1;31m---------------------------------------------------------------------------\u001b[0m",
      "\u001b[1;31mNameError\u001b[0m                                 Traceback (most recent call last)",
      "\u001b[1;32m<ipython-input-6-ea022079516a>\u001b[0m in \u001b[0;36m<module>\u001b[1;34m\u001b[0m\n\u001b[1;32m----> 1\u001b[1;33m \u001b[0mgenerate\u001b[0m\u001b[1;33m-\u001b[0m\u001b[0mconfig\u001b[0m\u001b[1;33m\u001b[0m\u001b[1;33m\u001b[0m\u001b[0m\n\u001b[0m",
      "\u001b[1;31mNameError\u001b[0m: name 'generate' is not defined"
     ]
    }
   ],
   "source": [
    "generate-config"
   ]
  },
  {
   "cell_type": "markdown",
   "id": "b13c1bfd",
   "metadata": {},
   "source": [
    "<font color=\"blue\" size=5px>  This is an investigation of the data files provided by Data Glacier for week 2 of the virtual internship </font>"
   ]
  },
  {
   "cell_type": "markdown",
   "id": "13e1bc61",
   "metadata": {},
   "source": [
    "<font color=\"red\" size=5px> Importing data </font>"
   ]
  },
  {
   "cell_type": "code",
   "execution_count": 1,
   "id": "203634c1",
   "metadata": {},
   "outputs": [],
   "source": [
    "#make notebook use more memory\n",
    "max_buffer_size=1.2e+10"
   ]
  },
  {
   "cell_type": "code",
   "execution_count": 2,
   "id": "05df146d",
   "metadata": {},
   "outputs": [],
   "source": [
    "#use pandas to import data\n",
    "import pandas as pd\n",
    "CD=pd.read_csv (r'Cab_Data.csv')\n",
    "Cy=pd.read_csv (r'City.csv')\n",
    "CID=pd.read_csv (r'Customer_ID.csv')\n",
    "TID=pd.read_csv (r'Transaction_ID.csv')\n"
   ]
  },
  {
   "cell_type": "markdown",
   "id": "09304b9b",
   "metadata": {},
   "source": [
    "<font color=\"red\" size=5px> Investigating the Cab_Data dataset </font>"
   ]
  },
  {
   "cell_type": "markdown",
   "id": "f81b94cc",
   "metadata": {},
   "source": [
    "Let's begin by getting an overview of the data:"
   ]
  },
  {
   "cell_type": "code",
   "execution_count": 3,
   "id": "7390fd2f",
   "metadata": {},
   "outputs": [
    {
     "name": "stdout",
     "output_type": "stream",
     "text": [
      "Transaction ID    359392\n",
      "Date of Travel      1095\n",
      "Company                2\n",
      "City                  19\n",
      "KM Travelled         874\n",
      "Price Charged      99176\n",
      "Cost of Trip       16291\n",
      "dtype: int64\n",
      "359392\n",
      "Transaction ID      int64\n",
      "Date of Travel      int64\n",
      "Company            object\n",
      "City               object\n",
      "KM Travelled      float64\n",
      "Price Charged     float64\n",
      "Cost of Trip      float64\n",
      "dtype: object\n",
      "0\n"
     ]
    }
   ],
   "source": [
    "print(CD.nunique()) #check number of unique values\n",
    "print(CD.shape[0]) #check numbers of rows\n",
    "print(CD.dtypes) #check data types\n",
    "print(CD.isna().sum().sum()) #check for NA values"
   ]
  },
  {
   "cell_type": "code",
   "execution_count": 4,
   "id": "68782fd5",
   "metadata": {},
   "outputs": [
    {
     "data": {
      "text/plain": [
       "Yellow Cab    274681\n",
       "Pink Cab       84711\n",
       "Name: Company, dtype: int64"
      ]
     },
     "execution_count": 4,
     "metadata": {},
     "output_type": "execute_result"
    }
   ],
   "source": [
    "CD['Company'].value_counts() #check number of entries for each company"
   ]
  },
  {
   "cell_type": "markdown",
   "id": "f0f94a09",
   "metadata": {},
   "source": [
    "We would absolutely expect that the price charged for each trip is greater than the cost of that trip, but this is not the case. We compare whether the price charged is less than the cost of the trip for each journey for each company and sum the truth values:"
   ]
  },
  {
   "cell_type": "code",
   "execution_count": 5,
   "id": "8a80d011",
   "metadata": {},
   "outputs": [
    {
     "name": "stdout",
     "output_type": "stream",
     "text": [
      "11129\n",
      "13690\n"
     ]
    }
   ],
   "source": [
    "\n",
    "#sum(CD['Price Charged']<CD['Cost of Trip'])\n",
    "print(sum(CD['Price Charged'].where(CD['Company']==\"Pink Cab\")<CD['Cost of Trip']))\n",
    "print(sum(CD['Price Charged'].where(CD['Company']==\"Yellow Cab\")<CD['Cost of Trip']))"
   ]
  },
  {
   "cell_type": "markdown",
   "id": "c2184472",
   "metadata": {},
   "source": [
    "This discrepancy could be explained by drivers having to wait in traffic for a long time, or undercharging, or perhaps the data is recorded incorrectly.  We don't know, so we will keep these values; if the data is valid it will be useful in the profit calculations"
   ]
  },
  {
   "cell_type": "markdown",
   "id": "bcdb221f",
   "metadata": {},
   "source": [
    "Let's create some box plots to visualise the numerical data, grouped by company, and identify outliers."
   ]
  },
  {
   "cell_type": "markdown",
   "id": "837a6c27",
   "metadata": {},
   "source": [
    "For the KM Travelled variable, for each company, there are no outliers:"
   ]
  },
  {
   "cell_type": "code",
   "execution_count": 6,
   "id": "3dce4be8",
   "metadata": {},
   "outputs": [
    {
     "data": {
      "image/png": "[encoded data removed]",
      "text/plain": [
       "<Figure size 432x288 with 1 Axes>"
      ]
     },
     "metadata": {
      "needs_background": "light"
     },
     "output_type": "display_data"
    }
   ],
   "source": [
    "import seaborn as sns\n",
    "\n",
    "KM_bp=sns.boxplot(x=\"Company\", y=\"KM Travelled\", data=CD)"
   ]
  },
  {
   "cell_type": "markdown",
   "id": "c5a9e6b4",
   "metadata": {},
   "source": [
    "We can see below that there are 5958 outliers for Price Charged, but we don't have a reason to believe that the information was entered incorrectly, and it's reasonable to believe that there were some longer, more expensive journeys so we will keep this data."
   ]
  },
  {
   "cell_type": "code",
   "execution_count": 7,
   "id": "a0601584",
   "metadata": {},
   "outputs": [
    {
     "name": "stdout",
     "output_type": "stream",
     "text": [
      "1149.49375\n",
      "5958\n"
     ]
    },
    {
     "data": {
      "image/png": "[encoded data removed]",
      "text/plain": [
       "<Figure size 432x288 with 1 Axes>"
      ]
     },
     "metadata": {
      "needs_background": "light"
     },
     "output_type": "display_data"
    }
   ],
   "source": [
    "PC_bp= sns.boxplot(x=CD[\"Price Charged\"])\n",
    "Q3=CD['Price Charged'].quantile(0.75)\n",
    "Q1=CD['Price Charged'].quantile(0.25)\n",
    "IQR=Q3-Q1\n",
    "upper_bound=Q3+1.5*IQR\n",
    "print(upper_bound)\n",
    "print(sum(CD['Price Charged']>upper_bound)) #total number of rows with Price Charged exceeding the upper bound"
   ]
  },
  {
   "cell_type": "code",
   "execution_count": 8,
   "id": "63016abb",
   "metadata": {},
   "outputs": [
    {
     "data": {
      "image/png": "[encoded data removed]",
      "text/plain": [
       "<Figure size 432x288 with 1 Axes>"
      ]
     },
     "metadata": {
      "needs_background": "light"
     },
     "output_type": "display_data"
    }
   ],
   "source": [
    "PC_bp= sns.boxplot(x=\"Price Charged\",y=\"Company\", data=CD)"
   ]
  },
  {
   "cell_type": "markdown",
   "id": "e4ed29d4",
   "metadata": {},
   "source": [
    "The Cost of Trip variable has no outliers for each company, although there to be a similar number of outliers compared to Price Charged."
   ]
  },
  {
   "cell_type": "code",
   "execution_count": 9,
   "id": "b5f44348",
   "metadata": {},
   "outputs": [
    {
     "data": {
      "image/png": "[encoded data removed]",
      "text/plain": [
       "<Figure size 432x288 with 1 Axes>"
      ]
     },
     "metadata": {
      "needs_background": "light"
     },
     "output_type": "display_data"
    }
   ],
   "source": [
    "CT_bp= sns.boxplot(x=\"Cost of Trip\",y=\"Company\", data=CD)"
   ]
  },
  {
   "cell_type": "markdown",
   "id": "54378bd3",
   "metadata": {},
   "source": [
    "<font color=\"red\" size=5px> Investigating the City dataset </font>"
   ]
  },
  {
   "cell_type": "markdown",
   "id": "349f482a",
   "metadata": {},
   "source": [
    "Outliers are not meaningful for the City table, so we will not look into them here, but will explore the data in other ways"
   ]
  },
  {
   "cell_type": "code",
   "execution_count": 10,
   "id": "be4ef2be",
   "metadata": {},
   "outputs": [
    {
     "name": "stdout",
     "output_type": "stream",
     "text": [
      "City          20\n",
      "Population    20\n",
      "Users         20\n",
      "dtype: int64\n",
      "20\n",
      "City          object\n",
      "Population    object\n",
      "Users         object\n",
      "dtype: object\n",
      "0\n"
     ]
    }
   ],
   "source": [
    "print(Cy.nunique())\n",
    "print(Cy.shape[0])\n",
    "print(Cy.dtypes) #check data types\n",
    "print(Cy.isna().sum().sum()) #check for NA values\n",
    "\n",
    "Cy = Cy.replace(',','', regex=True) #remove commas from the numbers\n",
    "Cy['Users']=Cy['Users'].astype(float) #turn object into float\n",
    "Cy['Population']=Cy['Population'].astype(float) #turn object into float\n",
    "Cy['PPC']=Cy['Users']/Cy['Population'] #proportion of population who use cabs"
   ]
  },
  {
   "cell_type": "markdown",
   "id": "dcded51f",
   "metadata": {},
   "source": [
    "How is the number of cab users distributed between the cities?"
   ]
  },
  {
   "cell_type": "code",
   "execution_count": 11,
   "id": "b39401ca",
   "metadata": {},
   "outputs": [
    {
     "data": {
      "image/png": "[encoded data removed]",
      "text/plain": [
       "<Figure size 360x360 with 1 Axes>"
      ]
     },
     "metadata": {
      "needs_background": "light"
     },
     "output_type": "display_data"
    }
   ],
   "source": [
    "Cy_plot=sns.catplot(x = \"City\",       # x variable name\n",
    "            y = \"Users\",       # y variable name\n",
    "             # group variable name\n",
    "            data = Cy,     # dataframe to plot\n",
    "            kind = \"bar\")\n",
    "\n",
    "for ax in Cy_plot.axes.flat:\n",
    "    for label in ax.get_xticklabels():\n",
    "        label.set_rotation(90)"
   ]
  },
  {
   "cell_type": "markdown",
   "id": "107787f0",
   "metadata": {},
   "source": [
    "From the above plot, we can see that big cities are the ones with most cab users. Smaller ones such as Pittsburgh have a relatively low number of users."
   ]
  },
  {
   "cell_type": "markdown",
   "id": "42ad53aa",
   "metadata": {},
   "source": [
    "How is the proportion of the number of cab users distributed between the cities?"
   ]
  },
  {
   "cell_type": "code",
   "execution_count": 12,
   "id": "d48dbf73",
   "metadata": {},
   "outputs": [
    {
     "data": {
      "image/png": "[encoded data removed]",
      "text/plain": [
       "<Figure size 360x360 with 1 Axes>"
      ]
     },
     "metadata": {
      "needs_background": "light"
     },
     "output_type": "display_data"
    }
   ],
   "source": [
    "Cy_plot=sns.catplot(x = \"City\",       # x variable name\n",
    "            y = \"PPC\",       # y variable name\n",
    "             # group variable name\n",
    "            data = Cy,     # dataframe to plot\n",
    "            kind = \"bar\")\n",
    "#rotate the labels for x axis\n",
    "for ax in Cy_plot.axes.flat:\n",
    "    for label in ax.get_xticklabels():\n",
    "        label.set_rotation(90)"
   ]
  },
  {
   "cell_type": "markdown",
   "id": "1e57b768",
   "metadata": {},
   "source": [
    "<font color=\"red\" size=5px> Investigating the Customer ID dataset </font>"
   ]
  },
  {
   "cell_type": "code",
   "execution_count": 13,
   "id": "7e63476b",
   "metadata": {},
   "outputs": [
    {
     "name": "stdout",
     "output_type": "stream",
     "text": [
      "Customer ID            int64\n",
      "Gender                object\n",
      "Age                    int64\n",
      "Income (USD/Month)     int64\n",
      "dtype: object\n"
     ]
    }
   ],
   "source": [
    "# print(CID.nunique())\n",
    "# print(CID.shape[0])\n",
    "print(CID.dtypes)"
   ]
  },
  {
   "cell_type": "markdown",
   "id": "280aa46d",
   "metadata": {},
   "source": [
    "Let's investigate the number of customers, grouped by age group and gender:"
   ]
  },
  {
   "cell_type": "code",
   "execution_count": 14,
   "id": "ff3489a8",
   "metadata": {},
   "outputs": [
    {
     "data": {
      "text/plain": [
       "<seaborn.axisgrid.FacetGrid at 0x22cab21c280>"
      ]
     },
     "execution_count": 14,
     "metadata": {},
     "output_type": "execute_result"
    },
    {
     "data": {
      "image/png": "[encoded data removed]",
      "text/plain": [
       "<Figure size 432.125x360 with 1 Axes>"
      ]
     },
     "metadata": {
      "needs_background": "light"
     },
     "output_type": "display_data"
    }
   ],
   "source": [
    "sns.displot(CID, x=\"Age\", hue=\"Gender\", bins=10, multiple=\"stack\")"
   ]
  },
  {
   "cell_type": "markdown",
   "id": "4f170df9",
   "metadata": {},
   "source": [
    "it appears that the vast majority of customers are aged between 18 and 41 years of age (approx 6500-8000 for each bin). Customers aged 41+ tend to use cabs from these companies considerably less. For each age range, there is also a roughly equal number of male and female customers."
   ]
  },
  {
   "cell_type": "markdown",
   "id": "f235ec61",
   "metadata": {},
   "source": [
    "<font color=\"red\" size=5px> Investigating the Transaction ID dataset </font>"
   ]
  },
  {
   "cell_type": "code",
   "execution_count": 15,
   "id": "32019d49",
   "metadata": {},
   "outputs": [
    {
     "name": "stdout",
     "output_type": "stream",
     "text": [
      "Transaction ID    440098\n",
      "Customer ID        49171\n",
      "Payment_Mode           2\n",
      "dtype: int64\n",
      "440098\n",
      "Transaction ID     int64\n",
      "Customer ID        int64\n",
      "Payment_Mode      object\n",
      "dtype: object\n"
     ]
    }
   ],
   "source": [
    "print(TID.nunique())\n",
    "print(TID.shape[0])\n",
    "print(TID.dtypes)"
   ]
  },
  {
   "cell_type": "code",
   "execution_count": 16,
   "id": "d0233c1b",
   "metadata": {},
   "outputs": [
    {
     "data": {
      "text/plain": [
       "Card    263991\n",
       "Cash    176107\n",
       "Name: Payment_Mode, dtype: int64"
      ]
     },
     "execution_count": 16,
     "metadata": {},
     "output_type": "execute_result"
    }
   ],
   "source": [
    "TID['Payment_Mode'].value_counts()"
   ]
  },
  {
   "cell_type": "markdown",
   "id": "faf4ffa4",
   "metadata": {},
   "source": [
    "CD lacks information for 80706 Transaction IDs, which will affect upcoming merges:"
   ]
  },
  {
   "cell_type": "code",
   "execution_count": 17,
   "id": "5f29b743",
   "metadata": {},
   "outputs": [
    {
     "data": {
      "text/plain": [
       "True     359392\n",
       "False     80706\n",
       "Name: Transaction ID, dtype: int64"
      ]
     },
     "execution_count": 17,
     "metadata": {},
     "output_type": "execute_result"
    }
   ],
   "source": [
    "TID['Transaction ID'].isin(CD['Transaction ID']).value_counts()"
   ]
  },
  {
   "cell_type": "markdown",
   "id": "43f2b03e",
   "metadata": {},
   "source": [
    "<font color=\"red\" size=5px> Merging data </font>"
   ]
  },
  {
   "cell_type": "markdown",
   "id": "f1092205",
   "metadata": {},
   "source": [
    "\n",
    "\n"
   ]
  },
  {
   "cell_type": "markdown",
   "id": "1a3fb3d5",
   "metadata": {},
   "source": [
    "We can see that there are the same number of unique Customer ID values for CID and TID. It seems logical to begin by merging CID and TID on customer ID"
   ]
  },
  {
   "cell_type": "code",
   "execution_count": 18,
   "id": "07361d0f",
   "metadata": {},
   "outputs": [
    {
     "name": "stdout",
     "output_type": "stream",
     "text": [
      "Customer ID            49171\n",
      "Gender                     2\n",
      "Age                       48\n",
      "Income (USD/Month)     23341\n",
      "Transaction ID        440098\n",
      "Payment_Mode               2\n",
      "dtype: int64\n",
      "440098\n"
     ]
    }
   ],
   "source": [
    "CID_TID=pd.merge(CID,TID, how='inner', on=\"Customer ID\")\n",
    "print(CID_TID.nunique())\n",
    "print(CID_TID.shape[0])\n",
    "#print(CID_TID)\n",
    "#print(CID_TID.isnull().sum())"
   ]
  },
  {
   "cell_type": "markdown",
   "id": "4380be8c",
   "metadata": {},
   "source": [
    "Append columns of CD to CID_TID  on Transaction ID. Some rows will be lost because 80706 values are missing. "
   ]
  },
  {
   "cell_type": "code",
   "execution_count": 19,
   "id": "8ba13ed2",
   "metadata": {},
   "outputs": [],
   "source": [
    "CID_TID_CD=pd.merge(CID_TID,CD, on='Transaction ID', how=\"inner\")"
   ]
  },
  {
   "cell_type": "markdown",
   "id": "336cef1d",
   "metadata": {},
   "source": [
    "Now we must join Cy and CID_TID_CD to create the master data, which we will use for upcoming analyses.\n"
   ]
  },
  {
   "cell_type": "code",
   "execution_count": 20,
   "id": "045a069f",
   "metadata": {},
   "outputs": [],
   "source": [
    "md=pd.merge(CID_TID_CD,Cy, on='City', how=\"inner\")"
   ]
  },
  {
   "cell_type": "code",
   "execution_count": 21,
   "id": "298b1f71",
   "metadata": {},
   "outputs": [
    {
     "name": "stdout",
     "output_type": "stream",
     "text": [
      "Customer ID             int64\n",
      "Gender                 object\n",
      "Age                     int64\n",
      "Income (USD/Month)      int64\n",
      "Transaction ID          int64\n",
      "Payment_Mode           object\n",
      "Date of Travel          int64\n",
      "Company                object\n",
      "City                   object\n",
      "KM Travelled          float64\n",
      "Price Charged         float64\n",
      "Cost of Trip          float64\n",
      "Population            float64\n",
      "Users                 float64\n",
      "PPC                   float64\n",
      "dtype: object\n"
     ]
    }
   ],
   "source": [
    "print(md.dtypes) #check that data types are correct"
   ]
  },
  {
   "cell_type": "code",
   "execution_count": 22,
   "id": "c95fce4d",
   "metadata": {},
   "outputs": [],
   "source": [
    "import numpy as np\n",
    "md = md.replace(',','', regex=True)\n",
    "md['Population']=md['Population'].astype(float)\n",
    "md['Users']=md['Users'].astype(float)"
   ]
  },
  {
   "cell_type": "markdown",
   "id": "d7239536",
   "metadata": {},
   "source": [
    "We find that there are no duplicate rows in this dataframe:"
   ]
  },
  {
   "cell_type": "code",
   "execution_count": 23,
   "id": "6947f7d2",
   "metadata": {},
   "outputs": [
    {
     "name": "stdout",
     "output_type": "stream",
     "text": [
      "Empty DataFrame\n",
      "Columns: [Customer ID, Gender, Age, Income (USD/Month), Transaction ID, Payment_Mode, Date of Travel, Company, City, KM Travelled, Price Charged, Cost of Trip, Population, Users, PPC]\n",
      "Index: []\n"
     ]
    }
   ],
   "source": [
    "dr=md[md.duplicated()]\n",
    "print(dr)"
   ]
  },
  {
   "cell_type": "markdown",
   "id": "a542a06c",
   "metadata": {},
   "source": [
    "Let's convert the date to a more understandable format:"
   ]
  },
  {
   "cell_type": "markdown",
   "id": "8110b12e",
   "metadata": {},
   "source": [
    "<font color=\"red\" size=5px> Which company has maximum cab users at a particular time period? </font>"
   ]
  },
  {
   "cell_type": "markdown",
   "id": "1aa468c5",
   "metadata": {},
   "source": [
    "First, let's convert the serial dates to a more intuitive format:"
   ]
  },
  {
   "cell_type": "code",
   "execution_count": 24,
   "id": "dc140b1a",
   "metadata": {},
   "outputs": [],
   "source": [
    "import datetime\n",
    "md['Date of Travel'] = pd.to_datetime((md['Date of Travel']-25569)*86400.0, unit='s' ,errors='coerce') #.dt.date"
   ]
  },
  {
   "cell_type": "markdown",
   "id": "7e86d78c",
   "metadata": {},
   "source": [
    "Let's group by the company name, and sample over each month for both customer IDs."
   ]
  },
  {
   "cell_type": "code",
   "execution_count": 25,
   "id": "f0ab0548",
   "metadata": {},
   "outputs": [],
   "source": [
    "CID_count = md.groupby('Company').resample('M', on='Date of Travel'\n",
    "               )['Customer ID'].nunique()"
   ]
  },
  {
   "cell_type": "markdown",
   "id": "df70c626",
   "metadata": {},
   "source": [
    "Convert the series into a data frame:"
   ]
  },
  {
   "cell_type": "code",
   "execution_count": 26,
   "id": "fab9484a",
   "metadata": {},
   "outputs": [
    {
     "data": {
      "text/html": [
       "<div>\n",
       "<style scoped>\n",
       "    .dataframe tbody tr th:only-of-type {\n",
       "        vertical-align: middle;\n",
       "    }\n",
       "\n",
       "    .dataframe tbody tr th {\n",
       "        vertical-align: top;\n",
       "    }\n",
       "\n",
       "    .dataframe thead th {\n",
       "        text-align: right;\n",
       "    }\n",
       "</style>\n",
       "<table border=\"1\" class=\"dataframe\">\n",
       "  <thead>\n",
       "    <tr style=\"text-align: right;\">\n",
       "      <th></th>\n",
       "      <th></th>\n",
       "      <th>Customer ID</th>\n",
       "    </tr>\n",
       "    <tr>\n",
       "      <th>Company</th>\n",
       "      <th>Date of Travel</th>\n",
       "      <th></th>\n",
       "    </tr>\n",
       "  </thead>\n",
       "  <tbody>\n",
       "    <tr>\n",
       "      <th rowspan=\"5\" valign=\"top\">Pink Cab</th>\n",
       "      <th>2016-01-31</th>\n",
       "      <td>910</td>\n",
       "    </tr>\n",
       "    <tr>\n",
       "      <th>2016-02-29</th>\n",
       "      <td>1034</td>\n",
       "    </tr>\n",
       "    <tr>\n",
       "      <th>2016-03-31</th>\n",
       "      <td>1200</td>\n",
       "    </tr>\n",
       "    <tr>\n",
       "      <th>2016-04-30</th>\n",
       "      <td>1210</td>\n",
       "    </tr>\n",
       "    <tr>\n",
       "      <th>2016-05-31</th>\n",
       "      <td>1512</td>\n",
       "    </tr>\n",
       "    <tr>\n",
       "      <th>...</th>\n",
       "      <th>...</th>\n",
       "      <td>...</td>\n",
       "    </tr>\n",
       "    <tr>\n",
       "      <th rowspan=\"5\" valign=\"top\">Yellow Cab</th>\n",
       "      <th>2018-08-31</th>\n",
       "      <td>6671</td>\n",
       "    </tr>\n",
       "    <tr>\n",
       "      <th>2018-09-30</th>\n",
       "      <td>7233</td>\n",
       "    </tr>\n",
       "    <tr>\n",
       "      <th>2018-10-31</th>\n",
       "      <td>7549</td>\n",
       "    </tr>\n",
       "    <tr>\n",
       "      <th>2018-11-30</th>\n",
       "      <td>8371</td>\n",
       "    </tr>\n",
       "    <tr>\n",
       "      <th>2018-12-31</th>\n",
       "      <td>8618</td>\n",
       "    </tr>\n",
       "  </tbody>\n",
       "</table>\n",
       "<p>72 rows × 1 columns</p>\n",
       "</div>"
      ],
      "text/plain": [
       "                           Customer ID\n",
       "Company    Date of Travel             \n",
       "Pink Cab   2016-01-31              910\n",
       "           2016-02-29             1034\n",
       "           2016-03-31             1200\n",
       "           2016-04-30             1210\n",
       "           2016-05-31             1512\n",
       "...                                ...\n",
       "Yellow Cab 2018-08-31             6671\n",
       "           2018-09-30             7233\n",
       "           2018-10-31             7549\n",
       "           2018-11-30             8371\n",
       "           2018-12-31             8618\n",
       "\n",
       "[72 rows x 1 columns]"
      ]
     },
     "execution_count": 26,
     "metadata": {},
     "output_type": "execute_result"
    }
   ],
   "source": [
    "CID_count.to_frame()"
   ]
  },
  {
   "cell_type": "markdown",
   "id": "399e5e3b",
   "metadata": {},
   "source": [
    "We would like to make use of the indexes in our analysis so we must reset them:"
   ]
  },
  {
   "cell_type": "code",
   "execution_count": 27,
   "id": "5eb1bb6a",
   "metadata": {},
   "outputs": [],
   "source": [
    "CID_count = CID_count.reset_index(drop=False)"
   ]
  },
  {
   "cell_type": "markdown",
   "id": "1c6ffb15",
   "metadata": {},
   "source": [
    "Remove the times to make the plot more presentable:"
   ]
  },
  {
   "cell_type": "code",
   "execution_count": 28,
   "id": "63addeb5",
   "metadata": {},
   "outputs": [],
   "source": [
    "CID_count['Date of Travel'] = pd.to_datetime(CID_count['Date of Travel'], errors='coerce').dt.date"
   ]
  },
  {
   "cell_type": "code",
   "execution_count": 29,
   "id": "b57f3b36",
   "metadata": {},
   "outputs": [
    {
     "data": {
      "text/plain": [
       "(72, 3)"
      ]
     },
     "execution_count": 29,
     "metadata": {},
     "output_type": "execute_result"
    }
   ],
   "source": [
    "CID_count.shape"
   ]
  },
  {
   "cell_type": "code",
   "execution_count": 30,
   "id": "14952e99",
   "metadata": {},
   "outputs": [
    {
     "name": "stdout",
     "output_type": "stream",
     "text": [
      "       Company Date of Travel  Customer ID\n",
      "0     Pink Cab     2016-01-31          910\n",
      "1     Pink Cab     2016-02-29         1034\n",
      "2     Pink Cab     2016-03-31         1200\n",
      "3     Pink Cab     2016-04-30         1210\n",
      "4     Pink Cab     2016-05-31         1512\n",
      "..         ...            ...          ...\n",
      "67  Yellow Cab     2018-08-31         6671\n",
      "68  Yellow Cab     2018-09-30         7233\n",
      "69  Yellow Cab     2018-10-31         7549\n",
      "70  Yellow Cab     2018-11-30         8371\n",
      "71  Yellow Cab     2018-12-31         8618\n",
      "\n",
      "[72 rows x 3 columns]\n"
     ]
    }
   ],
   "source": [
    "print(CID_count)"
   ]
  },
  {
   "cell_type": "markdown",
   "id": "222ed3ef",
   "metadata": {},
   "source": [
    "Let's just use the values for the last annual quarter for each company in our plot"
   ]
  },
  {
   "cell_type": "code",
   "execution_count": 31,
   "id": "e6463844",
   "metadata": {},
   "outputs": [],
   "source": [
    "CID_count_tail=CID_count.groupby('Company').tail(3) #just focus on the last quarter of 2018"
   ]
  },
  {
   "cell_type": "markdown",
   "id": "06c6e01c",
   "metadata": {},
   "source": [
    "We see from this plot that yellow cab has over twice the number of unique customers during each month of the last quarter."
   ]
  },
  {
   "cell_type": "code",
   "execution_count": 32,
   "id": "2bf369e3",
   "metadata": {},
   "outputs": [
    {
     "data": {
      "text/plain": [
       "<seaborn.axisgrid.FacetGrid at 0x22cab123190>"
      ]
     },
     "execution_count": 32,
     "metadata": {},
     "output_type": "execute_result"
    },
    {
     "data": {
      "image/png": "[encoded data removed]",
      "text/plain": [
       "<Figure size 449x360 with 1 Axes>"
      ]
     },
     "metadata": {
      "needs_background": "light"
     },
     "output_type": "display_data"
    }
   ],
   "source": [
    "sns.catplot(x = \"Date of Travel\",       # x variable name\n",
    "            y = \"Customer ID\",       # y variable name\n",
    "            hue = \"Company\",  # group variable name\n",
    "            data = CID_count_tail,     # dataframe to plot\n",
    "            kind = \"bar\")"
   ]
  },
  {
   "cell_type": "code",
   "execution_count": 33,
   "id": "f2742372",
   "metadata": {},
   "outputs": [],
   "source": [
    "pd.set_option(\"display.max_rows\", None, \"display.max_columns\", None)"
   ]
  },
  {
   "cell_type": "markdown",
   "id": "db22809c",
   "metadata": {},
   "source": [
    "<font color=\"red\" size=5px> Now, let's perform a similar analysis for transaction IDs to find the number of transactions for this time period: </font>"
   ]
  },
  {
   "cell_type": "code",
   "execution_count": 34,
   "id": "eaeadcfd",
   "metadata": {},
   "outputs": [],
   "source": [
    "TID_count= md.groupby('Company').resample('M', on='Date of Travel' \n",
    "               )['Transaction ID'].count()\n",
    "\n",
    "TID_count.to_frame().head()\n",
    "TID_count = TID_count.reset_index(drop=False)\n",
    "TID_count['Date of Travel'] = pd.to_datetime(TID_count['Date of Travel'], errors='coerce').dt.date\n",
    "\n",
    "TID_count.columns = ['Company', 'Month end date', 'Total transactions']"
   ]
  },
  {
   "cell_type": "code",
   "execution_count": 35,
   "id": "77046f35",
   "metadata": {},
   "outputs": [],
   "source": [
    "TID_count_tail=TID_count.groupby('Company').tail(3)"
   ]
  },
  {
   "cell_type": "markdown",
   "id": "3f47544a",
   "metadata": {},
   "source": [
    "We see from the plot that yellow cab has over twice the number of transactions during each month of the last quarter."
   ]
  },
  {
   "cell_type": "code",
   "execution_count": 36,
   "id": "3ecf4bf1",
   "metadata": {},
   "outputs": [
    {
     "data": {
      "text/plain": [
       "<seaborn.axisgrid.FacetGrid at 0x22cab676670>"
      ]
     },
     "execution_count": 36,
     "metadata": {},
     "output_type": "execute_result"
    },
    {
     "data": {
      "image/png": "[encoded data removed]",
      "text/plain": [
       "<Figure size 449x360 with 1 Axes>"
      ]
     },
     "metadata": {
      "needs_background": "light"
     },
     "output_type": "display_data"
    }
   ],
   "source": [
    "sns.catplot(x = \"Month end date\",       # x variable name\n",
    "            y = \"Total transactions\",       # y variable name\n",
    "            hue = \"Company\",  # group variable name\n",
    "            data = TID_count_tail,     # dataframe to plot\n",
    "            kind = \"bar\")"
   ]
  },
  {
   "cell_type": "markdown",
   "id": "0d934f21",
   "metadata": {},
   "source": [
    "<font color=\"red\" size=5px> Does margin and profit proportionally increase with increase in number of customers? </font>"
   ]
  },
  {
   "cell_type": "markdown",
   "id": "a3f6e12e",
   "metadata": {},
   "source": [
    "First, let's create a new variable, Margin. Each row of this column represents profit for each transaction, and this column can be summed over time periods to find the total profit during that period."
   ]
  },
  {
   "cell_type": "code",
   "execution_count": 37,
   "id": "8a7aca22",
   "metadata": {},
   "outputs": [],
   "source": [
    "md['Profit']=(md['Price Charged'] - md['Cost of Trip'])"
   ]
  },
  {
   "cell_type": "markdown",
   "id": "dddf5694",
   "metadata": {},
   "source": [
    "Let's create some relevant features, grouped by month and company:"
   ]
  },
  {
   "cell_type": "code",
   "execution_count": 38,
   "id": "4750ef6a",
   "metadata": {},
   "outputs": [],
   "source": [
    "PC = md.groupby('Company').resample('M', on='Date of Travel'  #total price charged for each month\n",
    "               )['Price Charged'].sum().to_frame().reset_index(drop=False) \n",
    "CT = md.groupby('Company').resample('M', on='Date of Travel' # total cost of trips\n",
    "               )['Cost of Trip'].sum().to_frame().reset_index(drop=False)\n",
    "M = md.groupby('Company').resample('M', on='Date of Travel' #total profit\n",
    "               )['Profit'].sum().to_frame().reset_index(drop=False) "
   ]
  },
  {
   "cell_type": "code",
   "execution_count": 39,
   "id": "5437a528",
   "metadata": {},
   "outputs": [
    {
     "name": "stdout",
     "output_type": "stream",
     "text": [
      "    Company Date of Travel     Profit\n",
      "0  Pink Cab     2016-01-31  73952.863\n"
     ]
    }
   ],
   "source": [
    "print(M.head(1))\n",
    "M.columns = ['Company', 'Month end date', 'Monthly Profit']\n",
    "#, 'Total Price Charged', 'Total cost']"
   ]
  },
  {
   "cell_type": "code",
   "execution_count": 40,
   "id": "ceac2a04",
   "metadata": {},
   "outputs": [],
   "source": [
    "M['Total Price Charged']=PC['Price Charged']\n",
    "M['Total cost']=CT['Cost of Trip']\n",
    "M['Monthly Margin']=(M['Monthly Profit']/M['Total Price Charged'])*100"
   ]
  },
  {
   "cell_type": "code",
   "execution_count": 41,
   "id": "c0879797",
   "metadata": {},
   "outputs": [
    {
     "name": "stdout",
     "output_type": "stream",
     "text": [
      "    Company Month end date  Monthly Profit  Total Price Charged  Total cost  \\\n",
      "0  Pink Cab     2016-01-31       73952.863            305236.77  231283.907   \n",
      "1  Pink Cab     2016-02-29       87475.544            344521.86  257046.316   \n",
      "2  Pink Cab     2016-03-31       87801.183            394890.37  307089.187   \n",
      "3  Pink Cab     2016-04-30       82591.853            383077.51  300485.657   \n",
      "4  Pink Cab     2016-05-31       61550.958            447231.76  385680.802   \n",
      "\n",
      "   Monthly Margin  \n",
      "0       24.228032  \n",
      "1       25.390419  \n",
      "2       22.234319  \n",
      "3       21.560089  \n",
      "4       13.762654  \n"
     ]
    }
   ],
   "source": [
    "print(M.head())"
   ]
  },
  {
   "cell_type": "code",
   "execution_count": 42,
   "id": "bd7f70ec",
   "metadata": {},
   "outputs": [],
   "source": [
    "M = pd.concat([TID_count['Total transactions'], M], axis=1)"
   ]
  },
  {
   "cell_type": "code",
   "execution_count": 43,
   "id": "56abab74",
   "metadata": {},
   "outputs": [],
   "source": [
    "# M = M.T.drop_duplicates().T"
   ]
  },
  {
   "cell_type": "code",
   "execution_count": 44,
   "id": "00014991",
   "metadata": {},
   "outputs": [
    {
     "name": "stdout",
     "output_type": "stream",
     "text": [
      "   Total transactions   Company Month end date  Monthly Profit  \\\n",
      "0                 927  Pink Cab     2016-01-31       73952.863   \n",
      "1                1050  Pink Cab     2016-02-29       87475.544   \n",
      "2                1231  Pink Cab     2016-03-31       87801.183   \n",
      "3                1240  Pink Cab     2016-04-30       82591.853   \n",
      "4                1567  Pink Cab     2016-05-31       61550.958   \n",
      "\n",
      "   Total Price Charged  Total cost  Monthly Margin  \n",
      "0            305236.77  231283.907       24.228032  \n",
      "1            344521.86  257046.316       25.390419  \n",
      "2            394890.37  307089.187       22.234319  \n",
      "3            383077.51  300485.657       21.560089  \n",
      "4            447231.76  385680.802       13.762654  \n"
     ]
    }
   ],
   "source": [
    "print(M.head())"
   ]
  },
  {
   "cell_type": "code",
   "execution_count": 45,
   "id": "183261c1",
   "metadata": {},
   "outputs": [
    {
     "name": "stdout",
     "output_type": "stream",
     "text": [
      "Total transactions              int64\n",
      "Company                        object\n",
      "Month end date         datetime64[ns]\n",
      "Monthly Profit                float64\n",
      "Total Price Charged           float64\n",
      "Total cost                    float64\n",
      "Monthly Margin                float64\n",
      "dtype: object\n"
     ]
    }
   ],
   "source": [
    "print(M.dtypes)"
   ]
  },
  {
   "cell_type": "code",
   "execution_count": 46,
   "id": "01992086",
   "metadata": {},
   "outputs": [
    {
     "name": "stdout",
     "output_type": "stream",
     "text": [
      "Total transactions              int64\n",
      "Company                        object\n",
      "Month end date         datetime64[ns]\n",
      "Monthly Profit                float64\n",
      "Total Price Charged           float64\n",
      "Total cost                    float64\n",
      "Monthly Margin                float64\n",
      "dtype: object\n"
     ]
    }
   ],
   "source": [
    "print(M.dtypes)\n",
    "M[['Monthly Profit','Total transactions']]=M[['Monthly Profit','Total transactions']].astype(float) #turn object into float"
   ]
  },
  {
   "cell_type": "markdown",
   "id": "130b6e98",
   "metadata": {},
   "source": [
    "From this plot and the correlation of +0.94, it is clear that the number of transactions and profit move in the same direction"
   ]
  },
  {
   "cell_type": "code",
   "execution_count": 47,
   "id": "15b32f4b",
   "metadata": {},
   "outputs": [
    {
     "data": {
      "image/png": "[encoded data removed]",
      "text/plain": [
       "<Figure size 432x288 with 1 Axes>"
      ]
     },
     "metadata": {
      "needs_background": "light"
     },
     "output_type": "display_data"
    }
   ],
   "source": [
    "tt_mp=sns.lineplot(x = \"Total transactions\",       # x variable name\n",
    "            y = \"Monthly Profit\",       # y variable name\n",
    "            hue = \"Company\",  # group variable name\n",
    "            data = M     # dataframe to plot\n",
    "            ).set_title('Total Transactions vs Profit for Each Company')\n",
    "#M.groupby('Company').sum('Monthly Profit')"
   ]
  },
  {
   "cell_type": "code",
   "execution_count": 48,
   "id": "7b4ebf09",
   "metadata": {},
   "outputs": [],
   "source": [
    "tt_mp.figure.savefig(\"tt_mp.png\")"
   ]
  },
  {
   "cell_type": "code",
   "execution_count": 49,
   "id": "9a404152",
   "metadata": {},
   "outputs": [],
   "source": [
    "c_pt = M['Monthly Profit'].corr(M['Total transactions'])\n",
    "c_mt = M['Monthly Margin'].corr(M['Total transactions'])"
   ]
  },
  {
   "cell_type": "code",
   "execution_count": 50,
   "id": "bb695dc2",
   "metadata": {},
   "outputs": [
    {
     "name": "stdout",
     "output_type": "stream",
     "text": [
      "0.9371343079108692 0.6364445602560647\n"
     ]
    }
   ],
   "source": [
    "print(c_pt, c_mt)"
   ]
  },
  {
   "cell_type": "markdown",
   "id": "9bc9a3ae",
   "metadata": {},
   "source": [
    "What is the overall trend between Monthly Margin and number of transactions?"
   ]
  },
  {
   "cell_type": "code",
   "execution_count": 51,
   "id": "b41b27ce",
   "metadata": {},
   "outputs": [
    {
     "data": {
      "text/plain": [
       "<seaborn.axisgrid.FacetGrid at 0x22cab301580>"
      ]
     },
     "execution_count": 51,
     "metadata": {},
     "output_type": "execute_result"
    },
    {
     "data": {
      "image/png": "[encoded data removed]",
      "text/plain": [
       "<Figure size 449x360 with 1 Axes>"
      ]
     },
     "metadata": {
      "needs_background": "light"
     },
     "output_type": "display_data"
    }
   ],
   "source": [
    "sns.lmplot(x='Total transactions', y='Monthly Margin', hue='Company', data=M)"
   ]
  },
  {
   "cell_type": "code",
   "execution_count": 52,
   "id": "11a4ef68",
   "metadata": {},
   "outputs": [
    {
     "name": "stdout",
     "output_type": "stream",
     "text": [
      "(72, 7)\n"
     ]
    }
   ],
   "source": [
    "print(M.shape)"
   ]
  },
  {
   "cell_type": "markdown",
   "id": "debb0f52",
   "metadata": {},
   "source": [
    " <font color=\"red\" size=5px>Is there seasonality in cab usage? </font>"
   ]
  },
  {
   "cell_type": "code",
   "execution_count": 53,
   "id": "90602ba0",
   "metadata": {},
   "outputs": [],
   "source": [
    "S=M\n",
    "S['month'] = M['Month end date'].dt.month\n"
   ]
  },
  {
   "cell_type": "code",
   "execution_count": 61,
   "id": "6ec0871b",
   "metadata": {},
   "outputs": [
    {
     "name": "stdout",
     "output_type": "stream",
     "text": [
      "<class 'pandas.core.frame.DataFrame'>\n"
     ]
    }
   ],
   "source": [
    "S_2 = S.groupby(['month', 'Company'])['Total transactions'].sum().to_frame().reset_index(drop=False)\n",
    "print(type(S_2))"
   ]
  },
  {
   "cell_type": "code",
   "execution_count": 57,
   "id": "7e6a2cde",
   "metadata": {},
   "outputs": [
    {
     "name": "stdout",
     "output_type": "stream",
     "text": [
      "    month     Company  Total transactions\n",
      "0       1    Pink Cab              5057.0\n",
      "1       1  Yellow Cab             18117.0\n",
      "2       2    Pink Cab              3375.0\n",
      "3       2  Yellow Cab             14932.0\n",
      "4       3    Pink Cab              4223.0\n",
      "5       3  Yellow Cab             17423.0\n",
      "6       4    Pink Cab              4083.0\n",
      "7       4  Yellow Cab             17351.0\n",
      "8       5    Pink Cab              4960.0\n",
      "9       5  Yellow Cab             18741.0\n",
      "10      6    Pink Cab              5877.0\n",
      "11      6  Yellow Cab             18836.0\n",
      "12      7    Pink Cab              6590.0\n",
      "13      7  Yellow Cab             21086.0\n",
      "14      8    Pink Cab              7739.0\n",
      "15      8  Yellow Cab             23584.0\n",
      "16      9    Pink Cab              9658.0\n",
      "17      9  Yellow Cab             27201.0\n",
      "18     10    Pink Cab             10576.0\n",
      "19     10  Yellow Cab             30276.0\n",
      "20     11    Pink Cab             11005.0\n",
      "21     11  Yellow Cab             31695.0\n",
      "22     12    Pink Cab             11568.0\n",
      "23     12  Yellow Cab             35439.0\n"
     ]
    }
   ],
   "source": [
    "print(S_2)"
   ]
  },
  {
   "cell_type": "code",
   "execution_count": 62,
   "id": "af990667",
   "metadata": {},
   "outputs": [
    {
     "data": {
      "text/plain": [
       "<AxesSubplot:xlabel='month', ylabel='Total transactions'>"
      ]
     },
     "execution_count": 62,
     "metadata": {},
     "output_type": "execute_result"
    },
    {
     "data": {
      "image/png": "[encoded data removed]",
      "text/plain": [
       "<Figure size 432x288 with 1 Axes>"
      ]
     },
     "metadata": {
      "needs_background": "light"
     },
     "output_type": "display_data"
    }
   ],
   "source": [
    "sns.barplot(x=\"month\", y=\"Total transactions\", hue=\"Company\", data=S_2)"
   ]
  }
 ],
 "metadata": {
  "kernelspec": {
   "display_name": "Python 3",
   "language": "python",
   "name": "python3"
  },
  "language_info": {
   "codemirror_mode": {
    "name": "ipython",
    "version": 3
   },
   "file_extension": ".py",
   "mimetype": "text/x-python",
   "name": "python",
   "nbconvert_exporter": "python",
   "pygments_lexer": "ipython3",
   "version": "3.8.8"
  }
 },
 "nbformat": 4,
 "nbformat_minor": 5
}
